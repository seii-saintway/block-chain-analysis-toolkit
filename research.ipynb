{
 "cells": [
  {
   "cell_type": "markdown",
   "metadata": {},
   "source": [
    "* https://github.com/jdourlens/awesome-ethereum-analytics\n",
    "* https://github.com/blockchain-etl/ethereum-etl"
   ]
  },
  {
   "cell_type": "markdown",
   "metadata": {},
   "source": [
    "##### Readings\n",
    "* exploring-ethereum.pdf\n",
    "* https://github.com/DAppBoard/dappboard-documentation\n",
    "* https://draveness.me/utxo-account-models\n",
    "* https://zhuanlan.zhihu.com/p/141599947\n",
    "  * USDT Supply Curve\n",
    "  * 质押和赎回 USD"
   ]
  },
  {
   "cell_type": "markdown",
   "metadata": {},
   "source": [
    "##### Practical To-Do\n",
    "* Ethereum Supply Curve\n",
    "  * https://etherscan.io/stat/supply\n",
    "  * https://etherscan.io/chart/ethersupplygrowth\n",
    "* https://github.com/etherscan/ethvalidate\n",
    "* https://github.com/gobitfly/etherchain-light\n",
    "* https://github.com/blockchain-etl/blockchain-kubernetes\n",
    "* estimate Ethereum mining’s monthly revenue and transaction fees\n",
    "* https://etherscan.io/gastracker"
   ]
  },
  {
   "cell_type": "markdown",
   "metadata": {},
   "source": [
    "##### Stock-to-Flow\n",
    "* https://digitalik.net/btc\n",
    "* \"As a thought experiment, imagine there was a base metal as scarce as gold but with the following properties: boring grey in colour, not a good conductor of electricity, not particularly strong .., not useful for any practical or ornamental purpose .. and one special, magical property: can be transported over a communications channel\" — Nakamoto [2](https://bitcointalk.org/index.php?topic=583.msg11405#msg11405)"
   ]
  },
  {
   "cell_type": "markdown",
   "metadata": {},
   "source": [
    "##### Willy Woo 是链上分析专家，最早提出了 NVT 估值模型，应用于比特币的估值。"
   ]
  },
  {
   "cell_type": "markdown",
   "metadata": {},
   "source": [
    "https://coinmetrics.io/"
   ]
  }
 ],
 "metadata": {
  "kernelspec": {
   "display_name": "Python 3",
   "language": "python",
   "name": "python3"
  },
  "language_info": {
   "codemirror_mode": {
    "name": "ipython",
    "version": 3
   },
   "file_extension": ".py",
   "mimetype": "text/x-python",
   "name": "python",
   "nbconvert_exporter": "python",
   "pygments_lexer": "ipython3",
   "version": "3.6.7"
  }
 },
 "nbformat": 4,
 "nbformat_minor": 4
}
